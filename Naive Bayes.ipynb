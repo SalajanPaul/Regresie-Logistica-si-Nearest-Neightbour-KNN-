{
 "cells": [
  {
   "cell_type": "code",
   "execution_count": 1,
   "metadata": {},
   "outputs": [
    {
     "name": "stdout",
     "output_type": "stream",
     "text": [
      "Matricea de confuzie [[151 275]\n",
      " [106 790]]\n",
      "Acuratețe: 0.7118003025718608\n",
      "Precizie: 0.7417840375586855\n",
      "Recall: 0.8816964285714286\n",
      "F1 Score: 0.8057113717491076\n"
     ]
    },
    {
     "name": "stderr",
     "output_type": "stream",
     "text": [
      "C:\\Users\\Paul Pogba\\AppData\\Local\\Temp\\ipykernel_95984\\895635324.py:15: FutureWarning: Downcasting behavior in `replace` is deprecated and will be removed in a future version. To retain the old behavior, explicitly call `result.infer_objects(copy=False)`. To opt-in to the future behavior, set `pd.set_option('future.no_silent_downcasting', True)`\n",
      "  data['Passed_Exam'] = data['Passed_Exam'].replace({\"Yes\": True, \"No\": False})\n"
     ]
    }
   ],
   "source": [
    "from sklearn.naive_bayes import GaussianNB\n",
    "from sklearn.metrics import confusion_matrix, classification_report, accuracy_score\n",
    "from sklearn.metrics import precision_score, recall_score, f1_score\n",
    "from sklearn.model_selection import train_test_split\n",
    "import pandas as pd\n",
    "\n",
    "\n",
    "data_path = \"StudentPerformanceFactors.csv\"\n",
    "data = pd.read_csv(data_path)\n",
    "\n",
    "# Crearea unei coloane 'Passed_Exam' bazată pe scorul examenului\n",
    "data['Passed_Exam'] = data['Exam_Score'].apply(lambda x: 'Yes' if x > 65 else 'No')\n",
    "\n",
    "# Schimbarea valorilor 'Yes'/'No' în True/False\n",
    "data['Passed_Exam'] = data['Passed_Exam'].replace({\"Yes\": True, \"No\": False})\n",
    "\n",
    "# Definirea variabilelor independente și dependente\n",
    "X = data[['Hours_Studied']]\n",
    "y = data['Passed_Exam']\n",
    "\n",
    "# Împărțirea datelor în seturi de antrenament și testare\n",
    "X_train, X_test, y_train, y_test = train_test_split(X, y, test_size=0.2, random_state=42, stratify=y)\n",
    "\n",
    "# Crearea și antrenarea modelului Naive Bayes\n",
    "nb_model = GaussianNB()\n",
    "nb_model.fit(X_train, y_train)\n",
    "\n",
    "# Realizarea predicțiilor\n",
    "nb_predictions = nb_model.predict(X_test)\n",
    "\n",
    "# Calcularea metricilor de performanță\n",
    "conf_matrix_nb = confusion_matrix(y_test, nb_predictions)\n",
    "class_report_nb = classification_report(y_test, nb_predictions)\n",
    "accuracy_nb = accuracy_score(y_test, nb_predictions)\n",
    "\n",
    "# Calcularea preciziei, recall-ului și F1 Score-ului\n",
    "accuracy = accuracy_score(y_test, nb_predictions)\n",
    "precision = precision_score(y_test, nb_predictions, zero_division=0)\n",
    "recall = recall_score(y_test, nb_predictions)\n",
    "f1 = f1_score(y_test, nb_predictions)\n",
    "\n",
    "# Afișarea rezultatelor\n",
    "print(\"Matricea de confuzie\", conf_matrix_nb)\n",
    "print(\"Acuratețe:\", accuracy)\n",
    "print(\"Precizie:\", precision)\n",
    "print(\"Recall:\", recall)\n",
    "print(\"F1 Score:\", f1)\n"
   ]
  }
 ],
 "metadata": {
  "kernelspec": {
   "display_name": "Python 3",
   "language": "python",
   "name": "python3"
  },
  "language_info": {
   "codemirror_mode": {
    "name": "ipython",
    "version": 3
   },
   "file_extension": ".py",
   "mimetype": "text/x-python",
   "name": "python",
   "nbconvert_exporter": "python",
   "pygments_lexer": "ipython3",
   "version": "3.12.5"
  }
 },
 "nbformat": 4,
 "nbformat_minor": 2
}
