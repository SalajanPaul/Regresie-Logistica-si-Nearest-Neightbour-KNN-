{
 "cells": [
  {
   "cell_type": "code",
   "execution_count": 4,
   "metadata": {},
   "outputs": [
    {
     "name": "stdout",
     "output_type": "stream",
     "text": [
      "Matricea de confuzie (KNN):\n",
      " [[125 301]\n",
      " [102 794]]\n",
      "Acuratețe: 0.6951588502269289\n",
      "Precizie: 0.7251141552511415\n",
      "Recall: 0.8861607142857143\n",
      "F1 Score: 0.7975891511803114\n"
     ]
    },
    {
     "name": "stderr",
     "output_type": "stream",
     "text": [
      "C:\\Users\\Paul Pogba\\AppData\\Local\\Temp\\ipykernel_55020\\3587494613.py:16: FutureWarning: Downcasting behavior in `replace` is deprecated and will be removed in a future version. To retain the old behavior, explicitly call `result.infer_objects(copy=False)`. To opt-in to the future behavior, set `pd.set_option('future.no_silent_downcasting', True)`\n",
      "  data['Passed_Exam'] = data['Passed_Exam'].replace({\"Yes\": True, \"No\": False})\n"
     ]
    }
   ],
   "source": [
    "#Pandas: Este utilizat pentru manipularea și analiza datelor\n",
    "#Scikit-learn: Pentru a folosii KNN împreuna cu functii pentru evaluarea performanței\n",
    "\n",
    "from sklearn.neighbors import KNeighborsClassifier\n",
    "from sklearn.metrics import confusion_matrix, classification_report, accuracy_score, precision_score, recall_score, f1_score\n",
    "from sklearn.model_selection import train_test_split\n",
    "import pandas as pd\n",
    "\n",
    "\n",
    "data_path = \"StudentPerformanceFactors.csv\"\n",
    "data = pd.read_csv(data_path)\n",
    "\n",
    "data['Passed_Exam'] = data['Exam_Score'].apply(lambda x: 'Yes' if x > 65 else 'No')\n",
    "\n",
    "# Schimba 'Yes'/'No' cu True/False\n",
    "data['Passed_Exam'] = data['Passed_Exam'].replace({\"Yes\": True, \"No\": False})\n",
    "\n",
    "\n",
    "X = data[['Hours_Studied']]\n",
    "y = data['Passed_Exam']\n",
    "X_train, X_test, y_train, y_test = train_test_split(X, y, test_size=0.2, random_state=42, stratify=y)\n",
    "# 80% pentru antrenare si 20% pentru testare\n",
    "\n",
    "# K-Nearest Neighbors Model\n",
    "knn_model = KNeighborsClassifier(n_neighbors=5)\n",
    "knn_model.fit(X_train, y_train)\n",
    "\n",
    "\n",
    "knn_predictions = knn_model.predict(X_test)\n",
    "\n",
    "# Matricea de confuzie\n",
    "conf_matrix_knn = confusion_matrix(y_test, knn_predictions)\n",
    "class_report_knn = classification_report(y_test, knn_predictions)\n",
    "accuracy_knn = accuracy_score(y_test, knn_predictions)\n",
    "\n",
    "accuracy = accuracy_score(y_test, knn_predictions)\n",
    "precision = precision_score(y_test, knn_predictions, zero_division=0)\n",
    "recall = recall_score(y_test, knn_predictions)\n",
    "f1 = f1_score(y_test, knn_predictions)\n",
    "\n",
    "print(\"Matricea de confuzie (KNN):\\n\", conf_matrix_knn)\n",
    "print(\"Acuratețe:\", accuracy)\n",
    "print(\"Precizie:\", precision)\n",
    "print(\"Recall:\", recall)\n",
    "print(\"F1 Score:\", f1)\n"
   ]
  }
 ],
 "metadata": {
  "kernelspec": {
   "display_name": "Python 3",
   "language": "python",
   "name": "python3"
  },
  "language_info": {
   "codemirror_mode": {
    "name": "ipython",
    "version": 3
   },
   "file_extension": ".py",
   "mimetype": "text/x-python",
   "name": "python",
   "nbconvert_exporter": "python",
   "pygments_lexer": "ipython3",
   "version": "3.12.5"
  }
 },
 "nbformat": 4,
 "nbformat_minor": 2
}
