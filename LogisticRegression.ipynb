{
 "cells": [
  {
   "cell_type": "code",
   "execution_count": null,
   "metadata": {},
   "outputs": [
    {
     "name": "stdout",
     "output_type": "stream",
     "text": [
      "Matricea de confuzie [[151 275]\n",
      " [106 790]]\n",
      "Acuratețe: 0.7118003025718608\n",
      "Precizie: 0.7417840375586855\n",
      "Recall: 0.8816964285714286\n",
      "F1 Score: 0.8057113717491076\n"
     ]
    },
    {
     "name": "stderr",
     "output_type": "stream",
     "text": [
      "C:\\Users\\Paul Pogba\\AppData\\Local\\Temp\\ipykernel_50720\\3043783967.py:15: FutureWarning: Downcasting behavior in `replace` is deprecated and will be removed in a future version. To retain the old behavior, explicitly call `result.infer_objects(copy=False)`. To opt-in to the future behavior, set `pd.set_option('future.no_silent_downcasting', True)`\n",
      "  data['Passed_Exam'] = data['Passed_Exam'].replace({\"Yes\": True, \"No\": False})\n"
     ]
    }
   ],
   "source": [
    "#Pandas: Este utilizat pentru manipularea și analiza datelor\n",
    "#Scikit-learn: Pentru a folosii KNN împreuna cu functii pentru evaluarea performanței\n",
    "\n",
    "from sklearn.linear_model import LogisticRegression\n",
    "from sklearn.metrics import confusion_matrix, classification_report, accuracy_score\n",
    "from sklearn.metrics import accuracy_score, precision_score, recall_score, f1_score\n",
    "from sklearn.model_selection import train_test_split\n",
    "import pandas as pd\n",
    "\n",
    "\n",
    "data_path = \"StudentPerformanceFactors.csv\"\n",
    "data = pd.read_csv(data_path)\n",
    "\n",
    "\n",
    "data['Passed_Exam'] = data['Exam_Score'].apply(lambda x: 'Yes' if x > 65 else 'No')\n",
    "\n",
    "# Schimba 'Yes'/'No' cu True/False\n",
    "data['Passed_Exam'] = data['Passed_Exam'].replace({\"Yes\": True, \"No\": False})\n",
    "\n",
    "\n",
    "X = data[['Hours_Studied']]\n",
    "y = data['Passed_Exam']\n",
    "X_train, X_test, y_train, y_test = train_test_split(X, y, test_size=0.2, random_state=42, stratify=y)\n",
    "# 80% pentru antrenare si 20% pentru testare\n",
    "\n",
    "# Logistic Regression Model\n",
    "logistic_model = LogisticRegression()\n",
    "logistic_model.fit(X_train, y_train)\n",
    "\n",
    "\n",
    "logistic_predictions = logistic_model.predict(X_test)\n",
    "\n",
    "# Matricea de confuzie\n",
    "conf_matrix_logistic = confusion_matrix(y_test, logistic_predictions)\n",
    "class_report_logistic = classification_report(y_test, logistic_predictions)\n",
    "accuracy_logistic = accuracy_score(y_test, logistic_predictions)\n",
    "\n",
    "logistic_predictions = logistic_model.predict(X_test)\n",
    "\n",
    "accuracy = accuracy_score(y_test, logistic_predictions)\n",
    "precision = precision_score(y_test, logistic_predictions, zero_division=0)\n",
    "recall = recall_score(y_test, logistic_predictions)\n",
    "f1 = f1_score(y_test, logistic_predictions)\n",
    "\n",
    "print(\"Matricea de confuzie\", conf_matrix_logistic)\n",
    "print(\"Acuratețe:\", accuracy)\n",
    "print(\"Precizie:\", precision)\n",
    "print(\"Recall:\", recall)\n",
    "print(\"F1 Score:\", f1)\n"
   ]
  },
  {
   "cell_type": "code",
   "execution_count": 4,
   "metadata": {},
   "outputs": [
    {
     "name": "stdout",
     "output_type": "stream",
     "text": [
      "Passed_Exam\n",
      "1    6607\n",
      "Name: count, dtype: int64\n"
     ]
    }
   ],
   "source": [
    "print(data['Passed_Exam'].value_counts())"
   ]
  }
 ],
 "metadata": {
  "kernelspec": {
   "display_name": "Python 3",
   "language": "python",
   "name": "python3"
  },
  "language_info": {
   "codemirror_mode": {
    "name": "ipython",
    "version": 3
   },
   "file_extension": ".py",
   "mimetype": "text/x-python",
   "name": "python",
   "nbconvert_exporter": "python",
   "pygments_lexer": "ipython3",
   "version": "3.12.5"
  }
 },
 "nbformat": 4,
 "nbformat_minor": 2
}
