{
 "cells": [
  {
   "cell_type": "code",
   "execution_count": 1,
   "metadata": {},
   "outputs": [
    {
     "name": "stdout",
     "output_type": "stream",
     "text": [
      "Matricea de confuzie: [[147 279]\n",
      " [105 791]]\n",
      "Acuratețe: 0.7095310136157338\n",
      "Precizie: 0.7392523364485981\n",
      "Recall: 0.8828125\n",
      "F1 Score: 0.8046795523906409\n"
     ]
    },
    {
     "name": "stderr",
     "output_type": "stream",
     "text": [
      "C:\\Users\\Paul Pogba\\AppData\\Local\\Temp\\ipykernel_77352\\1919844493.py:13: FutureWarning: Downcasting behavior in `replace` is deprecated and will be removed in a future version. To retain the old behavior, explicitly call `result.infer_objects(copy=False)`. To opt-in to the future behavior, set `pd.set_option('future.no_silent_downcasting', True)`\n",
      "  data['Passed_Exam'] = data['Passed_Exam'].replace({\"Yes\": True, \"No\": False})\n"
     ]
    }
   ],
   "source": [
    "from sklearn.tree import DecisionTreeClassifier\n",
    "from sklearn.metrics import confusion_matrix, classification_report, accuracy_score\n",
    "from sklearn.metrics import precision_score, recall_score, f1_score\n",
    "from sklearn.model_selection import train_test_split\n",
    "import pandas as pd\n",
    "\n",
    "# Încarcă datele\n",
    "data_path = \"StudentPerformanceFactors.csv\"\n",
    "data = pd.read_csv(data_path)\n",
    "\n",
    "# Crearea coloanei țintă binare\n",
    "data['Passed_Exam'] = data['Exam_Score'].apply(lambda x: 'Yes' if x > 65 else 'No')\n",
    "data['Passed_Exam'] = data['Passed_Exam'].replace({\"Yes\": True, \"No\": False})\n",
    "\n",
    "# Selectarea caracteristicii și a țintei\n",
    "X = data[['Hours_Studied']]\n",
    "y = data['Passed_Exam']\n",
    "X_train, X_test, y_train, y_test = train_test_split(X, y, test_size=0.2, random_state=42, stratify=y)\n",
    "\n",
    "# Modelul ID3 (Decision Tree cu entropie)\n",
    "id3_model = DecisionTreeClassifier(criterion=\"entropy\")\n",
    "id3_model.fit(X_train, y_train)\n",
    "\n",
    "# Realizarea predicțiilor\n",
    "id3_predictions = id3_model.predict(X_test)\n",
    "\n",
    "# Evaluarea performanței modelului ID3\n",
    "conf_matrix_id3 = confusion_matrix(y_test, id3_predictions)\n",
    "accuracy = accuracy_score(y_test, id3_predictions)\n",
    "precision = precision_score(y_test, id3_predictions, zero_division=0)\n",
    "recall = recall_score(y_test, id3_predictions)\n",
    "f1 = f1_score(y_test, id3_predictions)\n",
    "\n",
    "print(\"Matricea de confuzie:\", conf_matrix_id3)\n",
    "print(\"Acuratețe:\", accuracy)\n",
    "print(\"Precizie:\", precision)\n",
    "print(\"Recall:\", recall)\n",
    "print(\"F1 Score:\", f1)\n"
   ]
  }
 ],
 "metadata": {
  "kernelspec": {
   "display_name": "Python 3",
   "language": "python",
   "name": "python3"
  },
  "language_info": {
   "codemirror_mode": {
    "name": "ipython",
    "version": 3
   },
   "file_extension": ".py",
   "mimetype": "text/x-python",
   "name": "python",
   "nbconvert_exporter": "python",
   "pygments_lexer": "ipython3",
   "version": "3.12.5"
  }
 },
 "nbformat": 4,
 "nbformat_minor": 2
}
